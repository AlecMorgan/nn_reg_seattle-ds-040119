{
 "cells": [
  {
   "cell_type": "markdown",
   "metadata": {},
   "source": [
    "# Regularization and Optimization in Neural Networks\n",
    "\n",
    "## Regularization of NNs\n",
    "\n",
    "Does regularization make sense in the context of neural networks? <br/>\n",
    "\n",
    "Yes! We still have all of the salient ingredients: a loss function, overfitting vs. underfitting, and coefficients (weights) that could get too large.\n",
    "\n",
    "But there are now a few different flavors besides L1 and L2 regularization. (Note that L1 regularization is not common in the context of  neural networks.)"
   ]
  },
  {
   "cell_type": "code",
   "execution_count": 1,
   "metadata": {},
   "outputs": [
    {
     "name": "stderr",
     "output_type": "stream",
     "text": [
      "Using TensorFlow backend.\n"
     ]
    }
   ],
   "source": [
    "import pandas as pd\n",
    "from sklearn.model_selection import train_test_split\n",
    "from sklearn.preprocessing import StandardScaler\n",
    "from keras.models import Sequential\n",
    "from keras.layers import Dense\n",
    "from keras.utils import to_categorical\n",
    "from matplotlib import pyplot as plt\n",
    "%matplotlib inline"
   ]
  },
  {
   "cell_type": "code",
   "execution_count": 2,
   "metadata": {},
   "outputs": [
    {
     "data": {
      "text/html": [
       "<div>\n",
       "<style scoped>\n",
       "    .dataframe tbody tr th:only-of-type {\n",
       "        vertical-align: middle;\n",
       "    }\n",
       "\n",
       "    .dataframe tbody tr th {\n",
       "        vertical-align: top;\n",
       "    }\n",
       "\n",
       "    .dataframe thead th {\n",
       "        text-align: right;\n",
       "    }\n",
       "</style>\n",
       "<table border=\"1\" class=\"dataframe\">\n",
       "  <thead>\n",
       "    <tr style=\"text-align: right;\">\n",
       "      <th></th>\n",
       "      <th>fixed acidity</th>\n",
       "      <th>volatile acidity</th>\n",
       "      <th>citric acid</th>\n",
       "      <th>residual sugar</th>\n",
       "      <th>chlorides</th>\n",
       "      <th>free sulfur dioxide</th>\n",
       "      <th>total sulfur dioxide</th>\n",
       "      <th>density</th>\n",
       "      <th>pH</th>\n",
       "      <th>sulphates</th>\n",
       "      <th>alcohol</th>\n",
       "      <th>quality</th>\n",
       "      <th>red_wine</th>\n",
       "    </tr>\n",
       "  </thead>\n",
       "  <tbody>\n",
       "    <tr>\n",
       "      <th>0</th>\n",
       "      <td>7.4</td>\n",
       "      <td>0.70</td>\n",
       "      <td>0.00</td>\n",
       "      <td>1.9</td>\n",
       "      <td>0.076</td>\n",
       "      <td>11.0</td>\n",
       "      <td>34.0</td>\n",
       "      <td>0.9978</td>\n",
       "      <td>3.51</td>\n",
       "      <td>0.56</td>\n",
       "      <td>9.4</td>\n",
       "      <td>5</td>\n",
       "      <td>1</td>\n",
       "    </tr>\n",
       "    <tr>\n",
       "      <th>1</th>\n",
       "      <td>7.8</td>\n",
       "      <td>0.88</td>\n",
       "      <td>0.00</td>\n",
       "      <td>2.6</td>\n",
       "      <td>0.098</td>\n",
       "      <td>25.0</td>\n",
       "      <td>67.0</td>\n",
       "      <td>0.9968</td>\n",
       "      <td>3.20</td>\n",
       "      <td>0.68</td>\n",
       "      <td>9.8</td>\n",
       "      <td>5</td>\n",
       "      <td>1</td>\n",
       "    </tr>\n",
       "    <tr>\n",
       "      <th>2</th>\n",
       "      <td>7.8</td>\n",
       "      <td>0.76</td>\n",
       "      <td>0.04</td>\n",
       "      <td>2.3</td>\n",
       "      <td>0.092</td>\n",
       "      <td>15.0</td>\n",
       "      <td>54.0</td>\n",
       "      <td>0.9970</td>\n",
       "      <td>3.26</td>\n",
       "      <td>0.65</td>\n",
       "      <td>9.8</td>\n",
       "      <td>5</td>\n",
       "      <td>1</td>\n",
       "    </tr>\n",
       "    <tr>\n",
       "      <th>3</th>\n",
       "      <td>11.2</td>\n",
       "      <td>0.28</td>\n",
       "      <td>0.56</td>\n",
       "      <td>1.9</td>\n",
       "      <td>0.075</td>\n",
       "      <td>17.0</td>\n",
       "      <td>60.0</td>\n",
       "      <td>0.9980</td>\n",
       "      <td>3.16</td>\n",
       "      <td>0.58</td>\n",
       "      <td>9.8</td>\n",
       "      <td>6</td>\n",
       "      <td>1</td>\n",
       "    </tr>\n",
       "    <tr>\n",
       "      <th>4</th>\n",
       "      <td>7.4</td>\n",
       "      <td>0.70</td>\n",
       "      <td>0.00</td>\n",
       "      <td>1.9</td>\n",
       "      <td>0.076</td>\n",
       "      <td>11.0</td>\n",
       "      <td>34.0</td>\n",
       "      <td>0.9978</td>\n",
       "      <td>3.51</td>\n",
       "      <td>0.56</td>\n",
       "      <td>9.4</td>\n",
       "      <td>5</td>\n",
       "      <td>1</td>\n",
       "    </tr>\n",
       "  </tbody>\n",
       "</table>\n",
       "</div>"
      ],
      "text/plain": [
       "   fixed acidity  volatile acidity  citric acid  residual sugar  chlorides  \\\n",
       "0            7.4              0.70         0.00             1.9      0.076   \n",
       "1            7.8              0.88         0.00             2.6      0.098   \n",
       "2            7.8              0.76         0.04             2.3      0.092   \n",
       "3           11.2              0.28         0.56             1.9      0.075   \n",
       "4            7.4              0.70         0.00             1.9      0.076   \n",
       "\n",
       "   free sulfur dioxide  total sulfur dioxide  density    pH  sulphates  \\\n",
       "0                 11.0                  34.0   0.9978  3.51       0.56   \n",
       "1                 25.0                  67.0   0.9968  3.20       0.68   \n",
       "2                 15.0                  54.0   0.9970  3.26       0.65   \n",
       "3                 17.0                  60.0   0.9980  3.16       0.58   \n",
       "4                 11.0                  34.0   0.9978  3.51       0.56   \n",
       "\n",
       "   alcohol  quality  red_wine  \n",
       "0      9.4        5         1  \n",
       "1      9.8        5         1  \n",
       "2      9.8        5         1  \n",
       "3      9.8        6         1  \n",
       "4      9.4        5         1  "
      ]
     },
     "execution_count": 2,
     "metadata": {},
     "output_type": "execute_result"
    }
   ],
   "source": [
    "# Reading in the dataset\n",
    "\n",
    "wine = pd.read_csv('wine.csv')\n",
    "wine.head()"
   ]
  },
  {
   "cell_type": "code",
   "execution_count": 3,
   "metadata": {},
   "outputs": [],
   "source": [
    "# Re-calibrating\n",
    "\n",
    "wine['quality'] = wine['quality'].map(lambda x: x-3)"
   ]
  },
  {
   "cell_type": "code",
   "execution_count": 4,
   "metadata": {},
   "outputs": [],
   "source": [
    "# Defining X and y\n",
    "\n",
    "X = wine.drop('quality', axis=1)\n",
    "y = wine['quality']"
   ]
  },
  {
   "cell_type": "code",
   "execution_count": 5,
   "metadata": {},
   "outputs": [
    {
     "data": {
      "text/plain": [
       "3    2836\n",
       "2    2138\n",
       "4    1079\n",
       "1     216\n",
       "5     193\n",
       "0      30\n",
       "6       5\n",
       "Name: quality, dtype: int64"
      ]
     },
     "execution_count": 5,
     "metadata": {},
     "output_type": "execute_result"
    }
   ],
   "source": [
    "# Investigating our target\n",
    "\n",
    "wine['quality'].value_counts()"
   ]
  },
  {
   "cell_type": "code",
   "execution_count": 6,
   "metadata": {
    "scrolled": true
   },
   "outputs": [],
   "source": [
    "# Splitting and scaling\n",
    "\n",
    "X_train, X_test, y_train, y_test = train_test_split(X, y, random_state=42)\n",
    "\n",
    "ss = StandardScaler().fit(X_train)\n",
    "X_train_s = ss.transform(X_train)\n",
    "X_test_s = ss.transform(X_test)"
   ]
  },
  {
   "cell_type": "code",
   "execution_count": 7,
   "metadata": {},
   "outputs": [],
   "source": [
    "# Encoding our target\n",
    "\n",
    "y_train = to_categorical(y_train)\n",
    "y_test = to_categorical(y_test)"
   ]
  },
  {
   "cell_type": "code",
   "execution_count": 8,
   "metadata": {},
   "outputs": [
    {
     "name": "stdout",
     "output_type": "stream",
     "text": [
      "WARNING:tensorflow:From /Users/flatironschool/anaconda3/lib/python3.7/site-packages/tensorflow/python/framework/op_def_library.py:263: colocate_with (from tensorflow.python.framework.ops) is deprecated and will be removed in a future version.\n",
      "Instructions for updating:\n",
      "Colocations handled automatically by placer.\n"
     ]
    }
   ],
   "source": [
    "# Constructing our model\n",
    "\n",
    "model = Sequential()\n",
    "n_input = X_train_s.shape[1]\n",
    "n_hidden = n_input\n",
    "n_output = y_train.shape[1]\n",
    "\n",
    "model.add(Dense(n_hidden, input_dim=n_input, activation='relu'))\n",
    "\n",
    "# We want to predict probabilities, so we'll use a softmax activation\n",
    "\n",
    "model.add(Dense(n_output, activation='softmax'))"
   ]
  },
  {
   "cell_type": "code",
   "execution_count": 9,
   "metadata": {},
   "outputs": [],
   "source": [
    "# Compiling\n",
    "\n",
    "# We want to use categorical crossentropy as our optimizer\n",
    "\n",
    "model.compile(loss='categorical_crossentropy', optimizer='adam', metrics=['acc'])"
   ]
  },
  {
   "cell_type": "code",
   "execution_count": 10,
   "metadata": {},
   "outputs": [
    {
     "name": "stdout",
     "output_type": "stream",
     "text": [
      "WARNING:tensorflow:From /Users/flatironschool/anaconda3/lib/python3.7/site-packages/tensorflow/python/ops/math_ops.py:3066: to_int32 (from tensorflow.python.ops.math_ops) is deprecated and will be removed in a future version.\n",
      "Instructions for updating:\n",
      "Use tf.cast instead.\n",
      "Train on 4872 samples, validate on 1625 samples\n",
      "Epoch 1/42\n",
      "4872/4872 [==============================] - 0s 79us/step - loss: 1.9167 - acc: 0.2629 - val_loss: 1.5475 - val_acc: 0.4043\n",
      "Epoch 2/42\n",
      "4872/4872 [==============================] - 0s 36us/step - loss: 1.3791 - acc: 0.4682 - val_loss: 1.2748 - val_acc: 0.5108\n",
      "Epoch 3/42\n",
      "4872/4872 [==============================] - 0s 39us/step - loss: 1.2198 - acc: 0.5201 - val_loss: 1.1936 - val_acc: 0.5403\n",
      "Epoch 4/42\n",
      "4872/4872 [==============================] - 0s 39us/step - loss: 1.1630 - acc: 0.5396 - val_loss: 1.1603 - val_acc: 0.5428\n",
      "Epoch 5/42\n",
      "4872/4872 [==============================] - 0s 50us/step - loss: 1.1320 - acc: 0.5470 - val_loss: 1.1404 - val_acc: 0.5378\n",
      "Epoch 6/42\n",
      "4872/4872 [==============================] - 0s 56us/step - loss: 1.1122 - acc: 0.5581 - val_loss: 1.1261 - val_acc: 0.5348\n",
      "Epoch 7/42\n",
      "4872/4872 [==============================] - 0s 53us/step - loss: 1.0978 - acc: 0.5622 - val_loss: 1.1155 - val_acc: 0.5397\n",
      "Epoch 8/42\n",
      "4872/4872 [==============================] - 0s 53us/step - loss: 1.0873 - acc: 0.5647 - val_loss: 1.1100 - val_acc: 0.5409\n",
      "Epoch 9/42\n",
      "4872/4872 [==============================] - 0s 50us/step - loss: 1.0789 - acc: 0.5618 - val_loss: 1.1084 - val_acc: 0.5397\n",
      "Epoch 10/42\n",
      "4872/4872 [==============================] - 0s 45us/step - loss: 1.0723 - acc: 0.5632 - val_loss: 1.0998 - val_acc: 0.5440\n",
      "Epoch 11/42\n",
      "4872/4872 [==============================] - 0s 39us/step - loss: 1.0664 - acc: 0.5618 - val_loss: 1.0978 - val_acc: 0.5434\n",
      "Epoch 12/42\n",
      "4872/4872 [==============================] - 0s 51us/step - loss: 1.0626 - acc: 0.5628 - val_loss: 1.0942 - val_acc: 0.5434\n",
      "Epoch 13/42\n",
      "4872/4872 [==============================] - 0s 42us/step - loss: 1.0578 - acc: 0.5638 - val_loss: 1.0923 - val_acc: 0.5422\n",
      "Epoch 14/42\n",
      "4872/4872 [==============================] - 0s 44us/step - loss: 1.0548 - acc: 0.5610 - val_loss: 1.0875 - val_acc: 0.5452\n",
      "Epoch 15/42\n",
      "4872/4872 [==============================] - 0s 42us/step - loss: 1.0523 - acc: 0.5655 - val_loss: 1.0855 - val_acc: 0.5422\n",
      "Epoch 16/42\n",
      "4872/4872 [==============================] - 0s 36us/step - loss: 1.0498 - acc: 0.5634 - val_loss: 1.0847 - val_acc: 0.5422\n",
      "Epoch 17/42\n",
      "4872/4872 [==============================] - 0s 41us/step - loss: 1.0475 - acc: 0.5630 - val_loss: 1.0842 - val_acc: 0.5409\n",
      "Epoch 18/42\n",
      "4872/4872 [==============================] - 0s 40us/step - loss: 1.0456 - acc: 0.5677 - val_loss: 1.0808 - val_acc: 0.5397\n",
      "Epoch 19/42\n",
      "4872/4872 [==============================] - 0s 41us/step - loss: 1.0433 - acc: 0.5675 - val_loss: 1.0808 - val_acc: 0.5440\n",
      "Epoch 20/42\n",
      "4872/4872 [==============================] - 0s 42us/step - loss: 1.0418 - acc: 0.5649 - val_loss: 1.0792 - val_acc: 0.5428\n",
      "Epoch 21/42\n",
      "4872/4872 [==============================] - 0s 55us/step - loss: 1.0402 - acc: 0.5653 - val_loss: 1.0799 - val_acc: 0.5452\n",
      "Epoch 22/42\n",
      "4872/4872 [==============================] - 0s 50us/step - loss: 1.0379 - acc: 0.5692 - val_loss: 1.0766 - val_acc: 0.5440\n",
      "Epoch 23/42\n",
      "4872/4872 [==============================] - 0s 45us/step - loss: 1.0368 - acc: 0.5647 - val_loss: 1.0781 - val_acc: 0.5428\n",
      "Epoch 24/42\n",
      "4872/4872 [==============================] - 0s 45us/step - loss: 1.0354 - acc: 0.5659 - val_loss: 1.0740 - val_acc: 0.5434\n",
      "Epoch 25/42\n",
      "4872/4872 [==============================] - 0s 41us/step - loss: 1.0342 - acc: 0.5628 - val_loss: 1.0734 - val_acc: 0.5428\n",
      "Epoch 26/42\n",
      "4872/4872 [==============================] - 0s 39us/step - loss: 1.0321 - acc: 0.5651 - val_loss: 1.0728 - val_acc: 0.5440\n",
      "Epoch 27/42\n",
      "4872/4872 [==============================] - 0s 50us/step - loss: 1.0308 - acc: 0.5655 - val_loss: 1.0685 - val_acc: 0.5458\n",
      "Epoch 28/42\n",
      "4872/4872 [==============================] - 0s 54us/step - loss: 1.0293 - acc: 0.5667 - val_loss: 1.0681 - val_acc: 0.5440\n",
      "Epoch 29/42\n",
      "4872/4872 [==============================] - 0s 55us/step - loss: 1.0281 - acc: 0.5663 - val_loss: 1.0698 - val_acc: 0.5409\n",
      "Epoch 30/42\n",
      "4872/4872 [==============================] - 0s 51us/step - loss: 1.0272 - acc: 0.5655 - val_loss: 1.0658 - val_acc: 0.5446\n",
      "Epoch 31/42\n",
      "4872/4872 [==============================] - 0s 50us/step - loss: 1.0259 - acc: 0.5677 - val_loss: 1.0648 - val_acc: 0.5440\n",
      "Epoch 32/42\n",
      "4872/4872 [==============================] - 0s 54us/step - loss: 1.0244 - acc: 0.5679 - val_loss: 1.0625 - val_acc: 0.5465\n",
      "Epoch 33/42\n",
      "4872/4872 [==============================] - 0s 51us/step - loss: 1.0235 - acc: 0.5688 - val_loss: 1.0611 - val_acc: 0.5495\n",
      "Epoch 34/42\n",
      "4872/4872 [==============================] - 0s 50us/step - loss: 1.0231 - acc: 0.5688 - val_loss: 1.0615 - val_acc: 0.5415\n",
      "Epoch 35/42\n",
      "4872/4872 [==============================] - 0s 43us/step - loss: 1.0212 - acc: 0.5677 - val_loss: 1.0596 - val_acc: 0.5446\n",
      "Epoch 36/42\n",
      "4872/4872 [==============================] - 0s 38us/step - loss: 1.0209 - acc: 0.5653 - val_loss: 1.0580 - val_acc: 0.5458\n",
      "Epoch 37/42\n",
      "4872/4872 [==============================] - 0s 47us/step - loss: 1.0197 - acc: 0.5671 - val_loss: 1.0573 - val_acc: 0.5495\n",
      "Epoch 38/42\n",
      "4872/4872 [==============================] - 0s 51us/step - loss: 1.0185 - acc: 0.5669 - val_loss: 1.0578 - val_acc: 0.5415\n",
      "Epoch 39/42\n",
      "4872/4872 [==============================] - 0s 52us/step - loss: 1.0181 - acc: 0.5679 - val_loss: 1.0566 - val_acc: 0.5422\n",
      "Epoch 40/42\n",
      "4872/4872 [==============================] - 0s 49us/step - loss: 1.0171 - acc: 0.5698 - val_loss: 1.0555 - val_acc: 0.5458\n",
      "Epoch 41/42\n",
      "4872/4872 [==============================] - 0s 45us/step - loss: 1.0168 - acc: 0.5669 - val_loss: 1.0549 - val_acc: 0.5403\n",
      "Epoch 42/42\n",
      "4872/4872 [==============================] - 0s 49us/step - loss: 1.0156 - acc: 0.5638 - val_loss: 1.0520 - val_acc: 0.5452\n"
     ]
    }
   ],
   "source": [
    "# Fitting and saving the history log\n",
    "\n",
    "history_log = model.fit(X_train_s, y_train, validation_data=(X_test_s, y_test), \n",
    "                        epochs=42, batch_size=None)"
   ]
  },
  {
   "cell_type": "code",
   "execution_count": 11,
   "metadata": {},
   "outputs": [
    {
     "name": "stdout",
     "output_type": "stream",
     "text": [
      "[array([[ 0.2587266 ,  0.18795633, -0.1397145 , -0.6448904 , -0.6495145 ,\n",
      "         0.02775624,  0.4886118 ,  0.04137718, -0.2934197 , -0.22692733,\n",
      "        -0.04404425, -0.04171217],\n",
      "       [-0.22610764, -0.13616964, -0.10756207, -0.69791204,  0.3844724 ,\n",
      "        -0.09648746, -0.5543586 , -1.1403152 , -0.40189987, -0.20428482,\n",
      "         0.29719326,  0.2274947 ],\n",
      "       [ 0.19128104,  0.53711885,  0.30608642, -0.3796926 , -0.09421651,\n",
      "         0.27175188, -0.62397826, -0.06792834,  0.46836302,  0.41527507,\n",
      "        -0.28548464, -0.3072727 ],\n",
      "       [-0.15588662, -0.0231761 , -0.80057245,  0.5679685 ,  0.34146827,\n",
      "        -0.06702744,  0.2643528 , -0.1064861 , -0.24101111,  0.18217462,\n",
      "        -0.03960752, -0.75879115],\n",
      "       [-0.48300776,  0.09188991, -0.03099051, -0.2743666 ,  0.16474172,\n",
      "         0.08483428,  0.19857411,  0.02810203,  0.5856936 ,  0.3346602 ,\n",
      "         0.02485796, -0.09038544],\n",
      "       [ 0.463161  ,  0.14780809, -0.11376649,  0.14342383,  0.3472644 ,\n",
      "         0.09971606,  0.08973157, -0.3882525 , -0.23711716,  0.12272058,\n",
      "         0.32160577, -1.0598925 ],\n",
      "       [-0.48038298, -0.18526979,  0.21583821,  0.4034297 ,  0.4047685 ,\n",
      "        -0.315265  , -0.4793512 ,  0.2642664 ,  0.00849121, -0.01721757,\n",
      "        -0.0175346 ,  0.10591469],\n",
      "       [-0.0697389 , -0.06842004,  0.05632348,  0.26098493, -0.04986797,\n",
      "         0.02568422, -0.25549424,  0.43335348, -0.29599148, -1.0339894 ,\n",
      "         0.35888118,  0.39351642],\n",
      "       [ 0.12385048, -0.17997381, -0.31237668, -0.04910091,  0.11594877,\n",
      "        -0.32878286, -0.07802425, -0.5244867 , -0.16636431,  0.02818694,\n",
      "        -0.01667922, -0.2999578 ],\n",
      "       [ 0.24710615, -0.08505476,  0.10904142,  0.10703477,  0.07060593,\n",
      "         0.4674492 ,  0.5596322 , -0.50632155, -0.07259293,  0.02720933,\n",
      "        -0.29704145, -0.2524651 ],\n",
      "       [ 0.4559038 ,  0.23232888, -0.2607657 , -0.5192009 , -0.84076726,\n",
      "         0.10286284,  0.48741764, -0.653507  , -0.07441761,  0.6997498 ,\n",
      "        -0.42836565,  0.09117251],\n",
      "       [-0.01192454, -0.8325793 ,  0.33904818, -0.48457932, -0.09403249,\n",
      "        -0.12861867,  0.41261777, -0.17350547, -0.264784  , -0.10960793,\n",
      "         0.3683055 , -0.82295424]], dtype=float32), array([ 0.5241691 , -0.27120453,  0.7733344 ,  0.66957116, -0.04128472,\n",
      "       -0.13821809,  0.12114606, -0.53369385,  0.13821255,  0.52757   ,\n",
      "        0.94767815,  0.04028811], dtype=float32)]\n",
      "[array([[-0.23598874, -0.6828207 , -0.6775517 , -0.06425696,  0.5710906 ,\n",
      "         0.08238044, -0.2986003 ],\n",
      "       [ 0.04231162,  0.33509755,  0.32543746,  0.30670336, -0.49809223,\n",
      "        -0.19970576, -0.3751951 ],\n",
      "       [-0.7167114 , -0.21054807,  0.67566425,  0.25638026, -0.2797611 ,\n",
      "        -0.5557147 , -1.1258006 ],\n",
      "       [-0.31456712, -0.6410379 ,  0.03719857,  0.58628684,  0.36881343,\n",
      "        -0.1226354 , -1.3408632 ],\n",
      "       [-0.16899322,  0.72992504,  0.43565816, -0.3696527 , -0.5682144 ,\n",
      "         0.04443144, -1.1371554 ],\n",
      "       [-0.2714937 ,  0.50597036,  0.24282116, -0.32868987,  0.2743749 ,\n",
      "         0.28498733, -1.2174934 ],\n",
      "       [-0.48015103, -0.4207422 , -0.22466339,  0.4063714 ,  0.23330879,\n",
      "         0.06381771, -0.720884  ],\n",
      "       [-0.5590745 , -0.17884867, -0.2673086 , -0.28331298,  0.47084886,\n",
      "         0.7165646 , -0.29416177],\n",
      "       [ 0.2948516 ,  0.12984768,  0.19933718,  0.34871742, -0.0067817 ,\n",
      "        -0.71341467, -0.45196384],\n",
      "       [-0.89028543, -0.5748075 , -0.2464816 ,  0.24676602,  0.57820004,\n",
      "         0.71685606, -0.04046941],\n",
      "       [ 0.11307958, -0.00576456,  0.4932049 ,  0.29988858, -0.2332502 ,\n",
      "        -0.82330877, -0.93427825],\n",
      "       [ 0.21944512,  0.93735534,  0.2471061 , -0.16677374, -0.5418651 ,\n",
      "        -0.94697   , -0.8204846 ]], dtype=float32), array([-0.78206587, -0.2889473 ,  0.3751025 ,  0.4212962 , -0.24517997,\n",
      "       -0.45550117, -0.45976782], dtype=float32)]\n"
     ]
    }
   ],
   "source": [
    "# Extracting weights\n",
    "\n",
    "for layer in model.layers:\n",
    "    print(layer.get_weights())"
   ]
  },
  {
   "cell_type": "code",
   "execution_count": 12,
   "metadata": {},
   "outputs": [
    {
     "data": {
      "text/plain": [
       "array([[0.  , 0.  , 0.03, 0.66, 0.24, 0.07, 0.  ],\n",
       "       [0.01, 0.03, 0.81, 0.14, 0.01, 0.  , 0.  ],\n",
       "       [0.  , 0.01, 0.04, 0.34, 0.43, 0.18, 0.01],\n",
       "       [0.  , 0.01, 0.46, 0.48, 0.03, 0.01, 0.  ],\n",
       "       [0.  , 0.01, 0.62, 0.34, 0.02, 0.  , 0.  ]], dtype=float32)"
      ]
     },
     "execution_count": 12,
     "metadata": {},
     "output_type": "execute_result"
    }
   ],
   "source": [
    "# Predicting on some test data\n",
    "\n",
    "model.predict(X_test_s[:5]).round(2)"
   ]
  },
  {
   "cell_type": "code",
   "execution_count": 13,
   "metadata": {},
   "outputs": [
    {
     "data": {
      "text/plain": [
       "array([[0., 0., 0., 0., 0., 1., 0.],\n",
       "       [0., 0., 1., 0., 0., 0., 0.],\n",
       "       [0., 0., 0., 0., 1., 0., 0.],\n",
       "       [0., 0., 0., 1., 0., 0., 0.],\n",
       "       [0., 0., 0., 1., 0., 0., 0.]], dtype=float32)"
      ]
     },
     "execution_count": 13,
     "metadata": {},
     "output_type": "execute_result"
    }
   ],
   "source": [
    "# Comparing with reality\n",
    "\n",
    "y_test[:5]"
   ]
  },
  {
   "cell_type": "code",
   "execution_count": 14,
   "metadata": {},
   "outputs": [
    {
     "data": {
      "image/png": "[encoded data removed]",
      "text/plain": [
       "<Figure size 432x288 with 1 Axes>"
      ]
     },
     "metadata": {
      "needs_background": "light"
     },
     "output_type": "display_data"
    }
   ],
   "source": [
    "# Plotting\n",
    "\n",
    "plt.plot(history_log.history['loss'], label='Train loss')\n",
    "plt.plot(history_log.history['val_loss'], label='Test loss')\n",
    "plt.legend();"
   ]
  },
  {
   "cell_type": "markdown",
   "metadata": {},
   "source": [
    "## Adding Regularization"
   ]
  },
  {
   "cell_type": "code",
   "execution_count": 16,
   "metadata": {},
   "outputs": [
    {
     "name": "stdout",
     "output_type": "stream",
     "text": [
      "Train on 4872 samples, validate on 1625 samples\n",
      "Epoch 1/42\n",
      "4872/4872 [==============================] - 1s 126us/step - loss: 1.7189 - acc: 0.3875 - val_loss: 1.5294 - val_acc: 0.4634\n",
      "Epoch 2/42\n",
      "4872/4872 [==============================] - 0s 54us/step - loss: 1.4529 - acc: 0.4768 - val_loss: 1.4077 - val_acc: 0.4948\n",
      "Epoch 3/42\n",
      "4872/4872 [==============================] - 0s 52us/step - loss: 1.3647 - acc: 0.4992 - val_loss: 1.3451 - val_acc: 0.5157\n",
      "Epoch 4/42\n",
      "4872/4872 [==============================] - 0s 50us/step - loss: 1.3105 - acc: 0.5207 - val_loss: 1.3018 - val_acc: 0.5157\n",
      "Epoch 5/42\n",
      "4872/4872 [==============================] - 0s 53us/step - loss: 1.2712 - acc: 0.5316 - val_loss: 1.2687 - val_acc: 0.5182\n",
      "Epoch 6/42\n",
      "4872/4872 [==============================] - 0s 39us/step - loss: 1.2419 - acc: 0.5400 - val_loss: 1.2460 - val_acc: 0.5298\n",
      "Epoch 7/42\n",
      "4872/4872 [==============================] - 0s 42us/step - loss: 1.2195 - acc: 0.5480 - val_loss: 1.2276 - val_acc: 0.5354\n",
      "Epoch 8/42\n",
      "4872/4872 [==============================] - 0s 40us/step - loss: 1.2026 - acc: 0.5542 - val_loss: 1.2144 - val_acc: 0.5311\n",
      "Epoch 9/42\n",
      "4872/4872 [==============================] - 0s 46us/step - loss: 1.1899 - acc: 0.5583 - val_loss: 1.2051 - val_acc: 0.5385\n",
      "Epoch 10/42\n",
      "4872/4872 [==============================] - 0s 42us/step - loss: 1.1803 - acc: 0.5523 - val_loss: 1.1979 - val_acc: 0.5378\n",
      "Epoch 11/42\n",
      "4872/4872 [==============================] - 0s 44us/step - loss: 1.1739 - acc: 0.5560 - val_loss: 1.1910 - val_acc: 0.5366\n",
      "Epoch 12/42\n",
      "4872/4872 [==============================] - 0s 40us/step - loss: 1.1682 - acc: 0.5562 - val_loss: 1.1862 - val_acc: 0.5329\n",
      "Epoch 13/42\n",
      "4872/4872 [==============================] - 0s 55us/step - loss: 1.1636 - acc: 0.5585 - val_loss: 1.1810 - val_acc: 0.5342\n",
      "Epoch 14/42\n",
      "4872/4872 [==============================] - 0s 48us/step - loss: 1.1591 - acc: 0.5538 - val_loss: 1.1777 - val_acc: 0.5378\n",
      "Epoch 15/42\n",
      "4872/4872 [==============================] - 0s 49us/step - loss: 1.1553 - acc: 0.5569 - val_loss: 1.1736 - val_acc: 0.5342\n",
      "Epoch 16/42\n",
      "4872/4872 [==============================] - 0s 45us/step - loss: 1.1522 - acc: 0.5558 - val_loss: 1.1702 - val_acc: 0.5335\n",
      "Epoch 17/42\n",
      "4872/4872 [==============================] - 0s 38us/step - loss: 1.1501 - acc: 0.5581 - val_loss: 1.1688 - val_acc: 0.5305\n",
      "Epoch 18/42\n",
      "4872/4872 [==============================] - 0s 41us/step - loss: 1.1477 - acc: 0.5544 - val_loss: 1.1692 - val_acc: 0.5360\n",
      "Epoch 19/42\n",
      "4872/4872 [==============================] - 0s 50us/step - loss: 1.1452 - acc: 0.5546 - val_loss: 1.1640 - val_acc: 0.5329\n",
      "Epoch 20/42\n",
      "4872/4872 [==============================] - 0s 51us/step - loss: 1.1451 - acc: 0.5538 - val_loss: 1.1644 - val_acc: 0.5262\n",
      "Epoch 21/42\n",
      "4872/4872 [==============================] - 0s 51us/step - loss: 1.1429 - acc: 0.5530 - val_loss: 1.1652 - val_acc: 0.5323\n",
      "Epoch 22/42\n",
      "4872/4872 [==============================] - 0s 49us/step - loss: 1.1418 - acc: 0.5521 - val_loss: 1.1622 - val_acc: 0.5317\n",
      "Epoch 23/42\n",
      "4872/4872 [==============================] - 0s 40us/step - loss: 1.1407 - acc: 0.5575 - val_loss: 1.1606 - val_acc: 0.5335\n",
      "Epoch 24/42\n",
      "4872/4872 [==============================] - 0s 38us/step - loss: 1.1413 - acc: 0.5542 - val_loss: 1.1582 - val_acc: 0.5305\n",
      "Epoch 25/42\n",
      "4872/4872 [==============================] - 0s 44us/step - loss: 1.1387 - acc: 0.5511 - val_loss: 1.1589 - val_acc: 0.5274\n",
      "Epoch 26/42\n",
      "4872/4872 [==============================] - 0s 42us/step - loss: 1.1384 - acc: 0.5538 - val_loss: 1.1574 - val_acc: 0.5335\n",
      "Epoch 27/42\n",
      "4872/4872 [==============================] - 0s 40us/step - loss: 1.1374 - acc: 0.5523 - val_loss: 1.1564 - val_acc: 0.5280\n",
      "Epoch 28/42\n",
      "4872/4872 [==============================] - 0s 40us/step - loss: 1.1365 - acc: 0.5523 - val_loss: 1.1565 - val_acc: 0.5329\n",
      "Epoch 29/42\n",
      "4872/4872 [==============================] - 0s 39us/step - loss: 1.1356 - acc: 0.5562 - val_loss: 1.1577 - val_acc: 0.5360\n",
      "Epoch 30/42\n",
      "4872/4872 [==============================] - 0s 53us/step - loss: 1.1359 - acc: 0.5542 - val_loss: 1.1540 - val_acc: 0.5311\n",
      "Epoch 31/42\n",
      "4872/4872 [==============================] - 0s 51us/step - loss: 1.1342 - acc: 0.5546 - val_loss: 1.1530 - val_acc: 0.5317\n",
      "Epoch 32/42\n",
      "4872/4872 [==============================] - 0s 48us/step - loss: 1.1341 - acc: 0.5517 - val_loss: 1.1534 - val_acc: 0.5323\n",
      "Epoch 33/42\n",
      "4872/4872 [==============================] - 0s 41us/step - loss: 1.1335 - acc: 0.5513 - val_loss: 1.1545 - val_acc: 0.5360\n",
      "Epoch 34/42\n",
      "4872/4872 [==============================] - 0s 38us/step - loss: 1.1335 - acc: 0.5540 - val_loss: 1.1508 - val_acc: 0.5280\n",
      "Epoch 35/42\n",
      "4872/4872 [==============================] - 0s 46us/step - loss: 1.1334 - acc: 0.5538 - val_loss: 1.1535 - val_acc: 0.5305\n",
      "Epoch 36/42\n",
      "4872/4872 [==============================] - 0s 53us/step - loss: 1.1320 - acc: 0.5528 - val_loss: 1.1488 - val_acc: 0.5280\n",
      "Epoch 37/42\n",
      "4872/4872 [==============================] - 0s 52us/step - loss: 1.1326 - acc: 0.5489 - val_loss: 1.1552 - val_acc: 0.5323\n",
      "Epoch 38/42\n",
      "4872/4872 [==============================] - 0s 42us/step - loss: 1.1316 - acc: 0.5540 - val_loss: 1.1501 - val_acc: 0.5305\n",
      "Epoch 39/42\n",
      "4872/4872 [==============================] - 0s 40us/step - loss: 1.1313 - acc: 0.5525 - val_loss: 1.1504 - val_acc: 0.5292\n",
      "Epoch 40/42\n",
      "4872/4872 [==============================] - 0s 44us/step - loss: 1.1305 - acc: 0.5515 - val_loss: 1.1483 - val_acc: 0.5348\n",
      "Epoch 41/42\n",
      "4872/4872 [==============================] - 0s 43us/step - loss: 1.1307 - acc: 0.5517 - val_loss: 1.1480 - val_acc: 0.5280\n",
      "Epoch 42/42\n",
      "4872/4872 [==============================] - 0s 44us/step - loss: 1.1305 - acc: 0.5536 - val_loss: 1.1469 - val_acc: 0.5280\n"
     ]
    }
   ],
   "source": [
    "from keras import regularizers\n",
    "\n",
    "model_r = Sequential()\n",
    "\n",
    "n_input = X_train_s.shape[1]\n",
    "n_hidden = n_input\n",
    "\n",
    "model_r.add(Dense(n_hidden, input_dim=n_input, activation='relu',\n",
    "                 kernel_regularizer=regularizers.l2(0.01)))\n",
    "model_r.add(Dense(7, activation='softmax',\n",
    "                 kernel_regularizer=regularizers.l2(0.01)))\n",
    "\n",
    "model_r.compile(loss='categorical_crossentropy', optimizer='adam', metrics=['acc'])\n",
    "\n",
    "history_r = model_r.fit(X_train_s, y_train, validation_data=(X_test_s, y_test),\n",
    "                       epochs=42, batch_size=None)"
   ]
  },
  {
   "cell_type": "code",
   "execution_count": 17,
   "metadata": {},
   "outputs": [
    {
     "data": {
      "image/png": "[encoded data removed]",
      "text/plain": [
       "<Figure size 432x288 with 1 Axes>"
      ]
     },
     "metadata": {
      "needs_background": "light"
     },
     "output_type": "display_data"
    }
   ],
   "source": [
    "plt.plot(history_r.history['loss'], label='Training loss')\n",
    "plt.plot(history_r.history['val_loss'], label='Testing loss')\n",
    "plt.legend();"
   ]
  },
  {
   "cell_type": "markdown",
   "metadata": {},
   "source": [
    "### Dropout"
   ]
  },
  {
   "cell_type": "markdown",
   "metadata": {},
   "source": [
    "Here's a new regularization idea: Turn some neurons off during training. We'll assign probabilities of 'dropout' and then let fate decide.\n",
    "\n",
    "$\\rightarrow$ Why is this a good idea? *Is* it a good idea?\n",
    "\n",
    "Was this sort of regularization available to us before? Why (not)?"
   ]
  },
  {
   "cell_type": "code",
   "execution_count": 18,
   "metadata": {},
   "outputs": [
    {
     "name": "stdout",
     "output_type": "stream",
     "text": [
      "WARNING:tensorflow:From /Users/flatironschool/anaconda3/lib/python3.7/site-packages/keras/backend/tensorflow_backend.py:3445: calling dropout (from tensorflow.python.ops.nn_ops) with keep_prob is deprecated and will be removed in a future version.\n",
      "Instructions for updating:\n",
      "Please use `rate` instead of `keep_prob`. Rate should be set to `rate = 1 - keep_prob`.\n",
      "Train on 4872 samples, validate on 1625 samples\n",
      "Epoch 1/42\n",
      "4872/4872 [==============================] - 1s 137us/step - loss: 1.7372 - acc: 0.3313 - val_loss: 1.4660 - val_acc: 0.4197\n",
      "Epoch 2/42\n",
      "4872/4872 [==============================] - 0s 44us/step - loss: 1.3902 - acc: 0.4479 - val_loss: 1.2930 - val_acc: 0.4898\n",
      "Epoch 3/42\n",
      "4872/4872 [==============================] - 0s 46us/step - loss: 1.2789 - acc: 0.4784 - val_loss: 1.2262 - val_acc: 0.5182\n",
      "Epoch 4/42\n",
      "4872/4872 [==============================] - 0s 39us/step - loss: 1.2225 - acc: 0.5076 - val_loss: 1.1914 - val_acc: 0.5157\n",
      "Epoch 5/42\n",
      "4872/4872 [==============================] - 0s 47us/step - loss: 1.1960 - acc: 0.5117 - val_loss: 1.1696 - val_acc: 0.5212\n",
      "Epoch 6/42\n",
      "4872/4872 [==============================] - 0s 45us/step - loss: 1.1714 - acc: 0.5226 - val_loss: 1.1526 - val_acc: 0.5298\n",
      "Epoch 7/42\n",
      "4872/4872 [==============================] - 0s 49us/step - loss: 1.1480 - acc: 0.5273 - val_loss: 1.1397 - val_acc: 0.5292\n",
      "Epoch 8/42\n",
      "4872/4872 [==============================] - 0s 50us/step - loss: 1.1377 - acc: 0.5328 - val_loss: 1.1292 - val_acc: 0.5342\n",
      "Epoch 9/42\n",
      "4872/4872 [==============================] - 0s 55us/step - loss: 1.1289 - acc: 0.5308 - val_loss: 1.1234 - val_acc: 0.5354\n",
      "Epoch 10/42\n",
      "4872/4872 [==============================] - 0s 48us/step - loss: 1.1158 - acc: 0.5415 - val_loss: 1.1171 - val_acc: 0.5366\n",
      "Epoch 11/42\n",
      "4872/4872 [==============================] - 0s 51us/step - loss: 1.1178 - acc: 0.5355 - val_loss: 1.1137 - val_acc: 0.5385\n",
      "Epoch 12/42\n",
      "4872/4872 [==============================] - 0s 55us/step - loss: 1.1108 - acc: 0.5279 - val_loss: 1.1078 - val_acc: 0.5286\n",
      "Epoch 13/42\n",
      "4872/4872 [==============================] - 0s 53us/step - loss: 1.1029 - acc: 0.5376 - val_loss: 1.1047 - val_acc: 0.5366\n",
      "Epoch 14/42\n",
      "4872/4872 [==============================] - 0s 53us/step - loss: 1.1036 - acc: 0.5421 - val_loss: 1.1011 - val_acc: 0.5286\n",
      "Epoch 15/42\n",
      "4872/4872 [==============================] - 0s 44us/step - loss: 1.0994 - acc: 0.5425 - val_loss: 1.0979 - val_acc: 0.5366\n",
      "Epoch 16/42\n",
      "4872/4872 [==============================] - 0s 40us/step - loss: 1.0935 - acc: 0.5486 - val_loss: 1.0970 - val_acc: 0.5366\n",
      "Epoch 17/42\n",
      "4872/4872 [==============================] - 0s 41us/step - loss: 1.0917 - acc: 0.5431 - val_loss: 1.0934 - val_acc: 0.5366\n",
      "Epoch 18/42\n",
      "4872/4872 [==============================] - 0s 50us/step - loss: 1.0900 - acc: 0.5382 - val_loss: 1.0921 - val_acc: 0.5354\n",
      "Epoch 19/42\n",
      "4872/4872 [==============================] - 0s 45us/step - loss: 1.0856 - acc: 0.5419 - val_loss: 1.0925 - val_acc: 0.5366\n",
      "Epoch 20/42\n",
      "4872/4872 [==============================] - 0s 46us/step - loss: 1.0910 - acc: 0.5447 - val_loss: 1.0893 - val_acc: 0.5378\n",
      "Epoch 21/42\n",
      "4872/4872 [==============================] - 0s 55us/step - loss: 1.0837 - acc: 0.5429 - val_loss: 1.0886 - val_acc: 0.5372\n",
      "Epoch 22/42\n",
      "4872/4872 [==============================] - 0s 50us/step - loss: 1.0872 - acc: 0.5489 - val_loss: 1.0855 - val_acc: 0.5317\n",
      "Epoch 23/42\n",
      "4872/4872 [==============================] - 0s 52us/step - loss: 1.0730 - acc: 0.5445 - val_loss: 1.0839 - val_acc: 0.5354\n",
      "Epoch 24/42\n",
      "4872/4872 [==============================] - 0s 42us/step - loss: 1.0775 - acc: 0.5534 - val_loss: 1.0821 - val_acc: 0.5360\n",
      "Epoch 25/42\n",
      "4872/4872 [==============================] - 0s 49us/step - loss: 1.0781 - acc: 0.5468 - val_loss: 1.0822 - val_acc: 0.5391\n",
      "Epoch 26/42\n",
      "4872/4872 [==============================] - 0s 55us/step - loss: 1.0754 - acc: 0.5447 - val_loss: 1.0827 - val_acc: 0.5378\n",
      "Epoch 27/42\n",
      "4872/4872 [==============================] - 0s 53us/step - loss: 1.0729 - acc: 0.5458 - val_loss: 1.0805 - val_acc: 0.5378\n",
      "Epoch 28/42\n",
      "4872/4872 [==============================] - 0s 56us/step - loss: 1.0730 - acc: 0.5489 - val_loss: 1.0784 - val_acc: 0.5372\n",
      "Epoch 29/42\n",
      "4872/4872 [==============================] - 0s 47us/step - loss: 1.0699 - acc: 0.5569 - val_loss: 1.0763 - val_acc: 0.5385\n",
      "Epoch 30/42\n",
      "4872/4872 [==============================] - 0s 48us/step - loss: 1.0661 - acc: 0.5530 - val_loss: 1.0751 - val_acc: 0.5366\n",
      "Epoch 31/42\n",
      "4872/4872 [==============================] - 0s 43us/step - loss: 1.0651 - acc: 0.5536 - val_loss: 1.0739 - val_acc: 0.5372\n",
      "Epoch 32/42\n",
      "4872/4872 [==============================] - 0s 48us/step - loss: 1.0680 - acc: 0.5484 - val_loss: 1.0747 - val_acc: 0.5378\n",
      "Epoch 33/42\n",
      "4872/4872 [==============================] - 0s 79us/step - loss: 1.0666 - acc: 0.5499 - val_loss: 1.0725 - val_acc: 0.5385\n",
      "Epoch 34/42\n",
      "4872/4872 [==============================] - 0s 40us/step - loss: 1.0725 - acc: 0.5439 - val_loss: 1.0725 - val_acc: 0.5366\n",
      "Epoch 35/42\n",
      "4872/4872 [==============================] - 0s 33us/step - loss: 1.0686 - acc: 0.5484 - val_loss: 1.0713 - val_acc: 0.5378\n",
      "Epoch 36/42\n",
      "4872/4872 [==============================] - 0s 32us/step - loss: 1.0651 - acc: 0.5567 - val_loss: 1.0696 - val_acc: 0.5403\n",
      "Epoch 37/42\n",
      "4872/4872 [==============================] - 0s 33us/step - loss: 1.0641 - acc: 0.5489 - val_loss: 1.0707 - val_acc: 0.5452\n",
      "Epoch 38/42\n",
      "4872/4872 [==============================] - 0s 35us/step - loss: 1.0660 - acc: 0.5497 - val_loss: 1.0667 - val_acc: 0.5409\n",
      "Epoch 39/42\n",
      "4872/4872 [==============================] - 0s 34us/step - loss: 1.0586 - acc: 0.5513 - val_loss: 1.0673 - val_acc: 0.5440\n",
      "Epoch 40/42\n",
      "4872/4872 [==============================] - 0s 33us/step - loss: 1.0591 - acc: 0.5530 - val_loss: 1.0652 - val_acc: 0.5397\n",
      "Epoch 41/42\n",
      "4872/4872 [==============================] - 0s 34us/step - loss: 1.0583 - acc: 0.5542 - val_loss: 1.0656 - val_acc: 0.5415\n",
      "Epoch 42/42\n",
      "4872/4872 [==============================] - 0s 34us/step - loss: 1.0604 - acc: 0.5499 - val_loss: 1.0629 - val_acc: 0.5397\n"
     ]
    }
   ],
   "source": [
    "from keras.layers import Dropout\n",
    "\n",
    "model_d = Sequential()\n",
    "\n",
    "n_input = X_train_s.shape[1]\n",
    "n_hidden = n_input\n",
    "\n",
    "model_d.add(Dense(n_hidden, input_dim=n_input, activation='relu'))\n",
    "model_d.add(Dropout(rate=0.2))\n",
    "model_d.add(Dense(7, activation='softmax'))\n",
    "\n",
    "model_d.compile(loss='categorical_crossentropy', optimizer='adam', metrics=['acc'])\n",
    "\n",
    "history_d = model_d.fit(X_train_s, y_train, validation_data=(X_test_s, y_test),\n",
    "                       epochs=42, batch_size=None)"
   ]
  },
  {
   "cell_type": "code",
   "execution_count": 19,
   "metadata": {},
   "outputs": [
    {
     "data": {
      "image/png": "[encoded data removed]",
      "text/plain": [
       "<Figure size 432x288 with 1 Axes>"
      ]
     },
     "metadata": {
      "needs_background": "light"
     },
     "output_type": "display_data"
    }
   ],
   "source": [
    "plt.plot(history_d.history['loss'], label='Training loss')\n",
    "plt.plot(history_d.history['val_loss'], label='Testing loss')\n",
    "plt.legend();"
   ]
  },
  {
   "cell_type": "code",
   "execution_count": 21,
   "metadata": {},
   "outputs": [
    {
     "data": {
      "text/plain": [
       "(0.5498768472906403, 0.539692307472229)"
      ]
     },
     "execution_count": 21,
     "metadata": {},
     "output_type": "execute_result"
    }
   ],
   "source": [
    "history_d.history['acc'][-1], history_d.history['val_acc'][-1]"
   ]
  },
  {
   "cell_type": "markdown",
   "metadata": {},
   "source": [
    "### Early Stopping"
   ]
  },
  {
   "cell_type": "markdown",
   "metadata": {},
   "source": [
    "Another idea is to try to terminate the training process early, even before some pre-specified number of epochs.\n",
    "\n",
    "$\\rightarrow$ Why is this a good idea? *Is* it a good idea?\n",
    "\n",
    "Was this sort of regularization available to us before? Why (not)?"
   ]
  },
  {
   "cell_type": "code",
   "execution_count": 23,
   "metadata": {},
   "outputs": [],
   "source": [
    "from keras.callbacks import EarlyStopping"
   ]
  },
  {
   "cell_type": "code",
   "execution_count": 25,
   "metadata": {},
   "outputs": [
    {
     "name": "stdout",
     "output_type": "stream",
     "text": [
      "Train on 4872 samples, validate on 1625 samples\n",
      "Epoch 1/42\n",
      "4872/4872 [==============================] - 1s 122us/step - loss: 1.9400 - acc: 0.2504 - val_loss: 1.6165 - val_acc: 0.3852\n",
      "Epoch 2/42\n",
      "4872/4872 [==============================] - 0s 42us/step - loss: 1.4280 - acc: 0.4138 - val_loss: 1.2970 - val_acc: 0.4517\n",
      "Epoch 3/42\n",
      "4872/4872 [==============================] - 0s 39us/step - loss: 1.2351 - acc: 0.4719 - val_loss: 1.2031 - val_acc: 0.4942\n",
      "Epoch 4/42\n",
      "4872/4872 [==============================] - 0s 42us/step - loss: 1.1765 - acc: 0.5086 - val_loss: 1.1723 - val_acc: 0.5102\n",
      "Epoch 5/42\n",
      "4872/4872 [==============================] - 0s 39us/step - loss: 1.1480 - acc: 0.5205 - val_loss: 1.1564 - val_acc: 0.5132\n",
      "Epoch 6/42\n",
      "4872/4872 [==============================] - 0s 39us/step - loss: 1.1300 - acc: 0.5310 - val_loss: 1.1435 - val_acc: 0.5200\n",
      "Epoch 7/42\n",
      "4872/4872 [==============================] - 0s 41us/step - loss: 1.1169 - acc: 0.5314 - val_loss: 1.1342 - val_acc: 0.5262\n",
      "Epoch 8/42\n",
      "4872/4872 [==============================] - 0s 38us/step - loss: 1.1075 - acc: 0.5406 - val_loss: 1.1278 - val_acc: 0.5280\n",
      "Epoch 9/42\n",
      "4872/4872 [==============================] - 0s 41us/step - loss: 1.0995 - acc: 0.5376 - val_loss: 1.1230 - val_acc: 0.5249\n",
      "Epoch 10/42\n",
      "4872/4872 [==============================] - 0s 41us/step - loss: 1.0919 - acc: 0.5476 - val_loss: 1.1170 - val_acc: 0.5274\n",
      "Epoch 11/42\n",
      "4872/4872 [==============================] - 0s 40us/step - loss: 1.0854 - acc: 0.5511 - val_loss: 1.1130 - val_acc: 0.5298\n",
      "Epoch 12/42\n",
      "4872/4872 [==============================] - 0s 41us/step - loss: 1.0800 - acc: 0.5552 - val_loss: 1.1087 - val_acc: 0.5323\n",
      "Epoch 13/42\n",
      "4872/4872 [==============================] - 0s 37us/step - loss: 1.0746 - acc: 0.5554 - val_loss: 1.1077 - val_acc: 0.5335\n",
      "Epoch 14/42\n",
      "4872/4872 [==============================] - 0s 41us/step - loss: 1.0703 - acc: 0.5560 - val_loss: 1.1014 - val_acc: 0.5378\n",
      "Epoch 15/42\n",
      "4872/4872 [==============================] - 0s 39us/step - loss: 1.0661 - acc: 0.5614 - val_loss: 1.0964 - val_acc: 0.5329\n",
      "Epoch 16/42\n",
      "4872/4872 [==============================] - 0s 49us/step - loss: 1.0626 - acc: 0.5612 - val_loss: 1.0979 - val_acc: 0.5415\n",
      "Epoch 00016: early stopping\n"
     ]
    }
   ],
   "source": [
    "model_es = Sequential()\n",
    "\n",
    "n_input = X_train_s.shape[1]\n",
    "n_hidden = n_input\n",
    "\n",
    "model_es.add(Dense(n_hidden, input_dim=n_input, activation='relu'))\n",
    "model_es.add(Dense(n_output, activation='softmax'))\n",
    "\n",
    "model_es.compile(loss='categorical_crossentropy', optimizer='adam', metrics=['acc'])\n",
    "\n",
    "early_stop = EarlyStopping(monitor='val_loss', min_delta=1e-08, patience=0, verbose=1, mode='auto')\n",
    "\n",
    "callbacks_list = [early_stop]\n",
    "\n",
    "history_es = model_es.fit(X_train_s, y_train, validation_data=(X_test_s, y_test),\n",
    "                         epochs=42, batch_size=None, callbacks=callbacks_list)"
   ]
  },
  {
   "cell_type": "code",
   "execution_count": 26,
   "metadata": {},
   "outputs": [
    {
     "data": {
      "image/png": "[encoded data removed]",
      "text/plain": [
       "<Figure size 432x288 with 1 Axes>"
      ]
     },
     "metadata": {
      "needs_background": "light"
     },
     "output_type": "display_data"
    }
   ],
   "source": [
    "plt.plot(history_es.history['loss'], label='Training loss')\n",
    "plt.plot(history_es.history['val_loss'], label='Testing loss')\n",
    "plt.legend();"
   ]
  },
  {
   "cell_type": "code",
   "execution_count": null,
   "metadata": {},
   "outputs": [],
   "source": []
  }
 ],
 "metadata": {
  "kernelspec": {
   "display_name": "Python 3",
   "language": "python",
   "name": "python3"
  },
  "language_info": {
   "codemirror_mode": {
    "name": "ipython",
    "version": 3
   },
   "file_extension": ".py",
   "mimetype": "text/x-python",
   "name": "python",
   "nbconvert_exporter": "python",
   "pygments_lexer": "ipython3",
   "version": "3.7.1"
  }
 },
 "nbformat": 4,
 "nbformat_minor": 2
}
